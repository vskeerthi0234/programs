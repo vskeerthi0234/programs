{
 "cells": [
  {
   "cell_type": "code",
   "execution_count": 1,
   "id": "f2d0982d-93c4-4110-abce-da9eef4f8237",
   "metadata": {},
   "outputs": [],
   "source": [
    "#HASHING"
   ]
  },
  {
   "cell_type": "code",
   "execution_count": 2,
   "id": "64261959-eb4b-4a10-a910-54454ccaae0a",
   "metadata": {},
   "outputs": [
    {
     "name": "stdout",
     "output_type": "stream",
     "text": [
      "[False, False, False, False, False, False, False, False, False, False]\n",
      "[10, 100, 22, 50, 92, 79, 56, 47, False, 99]\n"
     ]
    }
   ],
   "source": [
    "#Hashing\n",
    "k = [22,10,47,56,100,50,92,99,79]  \n",
    "hashList = [False for _ in range(10)]\n",
    "print(hashList)\n",
    "for e in k:\n",
    "    for j in range(len(k)):\n",
    "        x=((e%10)+j)%10\n",
    "        if hashList[x]==False:\n",
    "            hashList[x]=e\n",
    "            break\n",
    "\n",
    "print(hashList)\n"
   ]
  },
  {
   "cell_type": "code",
   "execution_count": 1,
   "id": "e4683047-3743-4bb5-a021-ff7c7e50956f",
   "metadata": {},
   "outputs": [
    {
     "name": "stdout",
     "output_type": "stream",
     "text": [
      "[0, 0, 0, 0, 0, 0, 0, 0, 0, 0, 0, 0, 0]\n"
     ]
    }
   ],
   "source": [
    "k=[47,22,16,15,20,7,39,56,62,100,98,94,41]\n",
    "n=[0]*len(k)\n",
    "print(n)"
   ]
  },
  {
   "cell_type": "code",
   "execution_count": 4,
   "id": "724440af-adce-422f-909f-44707bc5e664",
   "metadata": {},
   "outputs": [
    {
     "name": "stdout",
     "output_type": "stream",
     "text": [
      "14\n"
     ]
    }
   ],
   "source": [
    "#Min cost Matrix\n",
    "\n",
    "a = [\n",
    "    [1,2,2,3],\n",
    "    [3,1,4,2],\n",
    "    [1,5,3,3],\n",
    "    [1,2,1,1]\n",
    "]\n",
    "n=len(a)-1\n",
    "m=len(a[0])-1\n",
    "\n",
    "i=j=0\n",
    "\n",
    "sum = a[i][j]\n",
    "\n",
    "while i<n or j<m:\n",
    "    if i==n:\n",
    "        j+=1\n",
    "    elif j==m:\n",
    "        i+=1\n",
    "    elif a[i][j+1] < a[i+1][j]:\n",
    "        j+=1\n",
    "    else:\n",
    "        i+=1\n",
    "    sum += a[i][j]\n",
    "\n",
    "print(sum)"
   ]
  }
 ],
 "metadata": {
  "kernelspec": {
   "display_name": "Python 3 (ipykernel)",
   "language": "python",
   "name": "python3"
  },
  "language_info": {
   "codemirror_mode": {
    "name": "ipython",
    "version": 3
   },
   "file_extension": ".py",
   "mimetype": "text/x-python",
   "name": "python",
   "nbconvert_exporter": "python",
   "pygments_lexer": "ipython3",
   "version": "3.11.7"
  }
 },
 "nbformat": 4,
 "nbformat_minor": 5
}
