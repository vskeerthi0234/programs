{
 "cells": [
  {
   "cell_type": "markdown",
   "id": "05f1ac95-83e5-4f81-8662-b5f96536cfe9",
   "metadata": {},
   "source": [
    "Sieve of Eratosthenes"
   ]
  },
  {
   "cell_type": "code",
   "execution_count": 28,
   "id": "f7a0c0f0-e6a4-48ea-abc7-5cf711c3e742",
   "metadata": {},
   "outputs": [
    {
     "name": "stdout",
     "output_type": "stream",
     "text": [
      "4\n"
     ]
    },
    {
     "data": {
      "text/plain": [
       "'print(primes)\\n\\nfor item in series:\\n    ans = primes[item]\\n    print(item,ans)'"
      ]
     },
     "execution_count": 28,
     "metadata": {},
     "output_type": "execute_result"
    }
   ],
   "source": [
    "#series = list(map(int,input().split()))\n",
    "\n",
    "def isprime(num):\n",
    "    i=2\n",
    "    while i*i<=num:\n",
    "        if num%i==0:\n",
    "            return False\n",
    "        i+=1\n",
    "    return True\n",
    "\n",
    "k = 15\n",
    "primes = [1]*(k+1)\n",
    "prefix = [0]*(k+1)\n",
    "primes[0]=primes[1]=0\n",
    "\n",
    "for i in range(2,k+1):\n",
    "    if isprime(i):\n",
    "        primes[i] = 1\n",
    "    else:\n",
    "        primes[i] = 0\n",
    "\n",
    "\n",
    "for i in range(2,k+1):\n",
    "    if primes[i]==1:\n",
    "        j = i*i\n",
    "        while j<=k:\n",
    "            primes[j]=0\n",
    "            j = j+i\n",
    "\n",
    "\n",
    "for i in range(2,k+1):\n",
    "    prefix[i]=primes[i]+prefix[i-1]\n",
    "\n",
    "print(prefix[7])\n",
    "        \n",
    "\"\"\"print(primes)\n",
    "\n",
    "for item in series:\n",
    "    ans = primes[item]\n",
    "    print(item,ans)\"\"\""
   ]
  }
 ],
 "metadata": {
  "kernelspec": {
   "display_name": "Python 3 (ipykernel)",
   "language": "python",
   "name": "python3"
  },
  "language_info": {
   "codemirror_mode": {
    "name": "ipython",
    "version": 3
   },
   "file_extension": ".py",
   "mimetype": "text/x-python",
   "name": "python",
   "nbconvert_exporter": "python",
   "pygments_lexer": "ipython3",
   "version": "3.11.7"
  }
 },
 "nbformat": 4,
 "nbformat_minor": 5
}
