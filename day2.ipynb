{
 "cells": [
  {
   "cell_type": "markdown",
   "id": "e630d87c-b673-4776-aadf-6f897d6ed736",
   "metadata": {},
   "source": [
    "lists:\n",
    "append #takes nly one argument(value based)\n",
    "remove #takes nly one argument(value based)\n",
    "insert #takes two one argument(position based) (pos,value)\n",
    "pop #takes nly one argument(position based)\n",
    "sort #takes no arguments\n",
    "reverse #takes no arguments"
   ]
  },
  {
   "cell_type": "code",
   "execution_count": 26,
   "id": "9bfeb82a-c26c-4028-8f86-ebac0e41e5a3",
   "metadata": {},
   "outputs": [
    {
     "name": "stdout",
     "output_type": "stream",
     "text": [
      "1\n"
     ]
    }
   ],
   "source": [
    "l=[5,6,7,8,3,7,2,1]\n",
    "cn=l.count(3)\n",
    "print(cn)"
   ]
  },
  {
   "cell_type": "markdown",
   "id": "cb0cd6df-0c84-4d9b-bc5e-4ba3333247bc",
   "metadata": {},
   "source": [
    "tuple:\n",
    "is immutable \n",
    "we cand append,add or remove we can just access the elements of the tuple"
   ]
  },
  {
   "cell_type": "code",
   "execution_count": 41,
   "id": "0310e588-1a7e-40fe-bf95-8be7b4e0b3b0",
   "metadata": {},
   "outputs": [
    {
     "name": "stdout",
     "output_type": "stream",
     "text": [
      "(1, 'abc', 'hi', 6, 7, 8)\n"
     ]
    }
   ],
   "source": [
    "t=(1,\"abc\",'hi',6,7,8)\n",
    "print(t)"
   ]
  },
  {
   "cell_type": "markdown",
   "id": "67334f5d-0648-4754-bb1e-8edbe461794b",
   "metadata": {},
   "source": [
    "class and objects"
   ]
  },
  {
   "cell_type": "code",
   "execution_count": 44,
   "id": "4b097e00-963e-450b-b3ca-d72a87a2b1b3",
   "metadata": {},
   "outputs": [
    {
     "name": "stdout",
     "output_type": "stream",
     "text": [
      "keerthi 20 female\n"
     ]
    }
   ],
   "source": [
    "class student:\n",
    "    def __init__(self,nm,ag,gn):\n",
    "        self.name=nm\n",
    "        self.age=ag\n",
    "        self.gn=gn\n",
    "st=student(\"keerthi\",20,\"female\")\n",
    "print(st.name,st.age,st.gn)\n"
   ]
  },
  {
   "cell_type": "code",
   "execution_count": 1,
   "id": "2ab07459-1b1c-49ad-b6f9-06d37418b535",
   "metadata": {},
   "outputs": [
    {
     "name": "stdin",
     "output_type": "stream",
     "text": [
      "enter your name harini\n",
      "enter your age 21\n",
      "enter gender f\n"
     ]
    },
    {
     "name": "stdout",
     "output_type": "stream",
     "text": [
      "harini 21 f\n"
     ]
    }
   ],
   "source": [
    "class student:\n",
    "    def __init__(self):\n",
    "        self.name=None\n",
    "        self.age=None\n",
    "        self.gn=None\n",
    "st=student()\n",
    "st.name=input(\"enter your name\")\n",
    "st.age=int(input(\"enter your age\"))\n",
    "st.gn=input(\"enter gender\")\n",
    "print(st.name,st.age,st.gn)\n"
   ]
  },
  {
   "cell_type": "code",
   "execution_count": 2,
   "id": "e08f14fa-d2e2-44da-a5d5-739bd01dfbae",
   "metadata": {},
   "outputs": [
    {
     "name": "stdin",
     "output_type": "stream",
     "text": [
      "enter your name navya\n",
      "enter your age 20\n",
      "enter gender F\n"
     ]
    },
    {
     "name": "stdout",
     "output_type": "stream",
     "text": [
      "navya 21 F\n"
     ]
    }
   ],
   "source": [
    "class student:\n",
    "    def __init__(self,nm,age,gn):\n",
    "        self.name=nm\n",
    "        self.age=age\n",
    "        self.gn=gn\n",
    "\n",
    "a=input(\"enter your name\")\n",
    "b=int(input(\"enter your age\"))\n",
    "c=input(\"enter gender\")\n",
    "b=21\n",
    "st=student(a,b,c)\n",
    "print(st.name,st.age,st.gn)\n",
    "\n"
   ]
  },
  {
   "cell_type": "code",
   "execution_count": 3,
   "id": "edd1bae4-6519-49c9-aeb7-4aae28a218e7",
   "metadata": {},
   "outputs": [
    {
     "name": "stdout",
     "output_type": "stream",
     "text": [
      "this is function:1\n",
      "<__main__.A object at 0x000001D63CB607D0>\n"
     ]
    }
   ],
   "source": [
    "class A:\n",
    "    def func1(self):\n",
    "        print(\"this is function:1\")\n",
    "class B(A):\n",
    "    def func2(self):\n",
    "        print(\"this is function:2\")\n",
    "obj=A()\n",
    "obj.func1()\n",
    "print(obj)\n",
    "    "
   ]
  },
  {
   "cell_type": "code",
   "execution_count": 4,
   "id": "de3bd81b-201b-4eeb-a56b-87a7688d95cc",
   "metadata": {},
   "outputs": [
    {
     "name": "stdout",
     "output_type": "stream",
     "text": [
      "3\n"
     ]
    }
   ],
   "source": [
    "class A:\n",
    "    def __init__(self,a,b):\n",
    "        self.a=a\n",
    "        self.b=b\n",
    "    def func2(self):\n",
    "        print(self.b)\n",
    "obj=A(2,3)\n",
    "obj.func2()"
   ]
  },
  {
   "cell_type": "code",
   "execution_count": 5,
   "id": "89e29fa6-f7cf-4b1c-88b2-342ad8ccffbf",
   "metadata": {},
   "outputs": [
    {
     "name": "stdout",
     "output_type": "stream",
     "text": [
      "2\n",
      "5\n"
     ]
    }
   ],
   "source": [
    "#inheritance\n",
    "\n",
    "class A:\n",
    "    def __init__(self,a,b):\n",
    "        self.A=a\n",
    "        self.__B=b\n",
    "    def printB(self):\n",
    "        print(self.__B)\n",
    "ob1=A(2,5)\n",
    "#ob1.printB()\n",
    "print(ob1.A)\n",
    "ob1.printB()\n",
    "    "
   ]
  },
  {
   "cell_type": "code",
   "execution_count": 6,
   "id": "5eb3609a-0641-4b3c-b004-2e1db6e4c7fc",
   "metadata": {},
   "outputs": [
    {
     "name": "stdin",
     "output_type": "stream",
     "text": [
      "enter your name Keerthi\n",
      "enter your usn 177\n",
      "5 sub marks 90 98 89 87 78\n"
     ]
    },
    {
     "name": "stdout",
     "output_type": "stream",
     "text": [
      "name: Keerthi\n",
      "usn: 177\n",
      "marks: [90, 98, 89, 87, 78]\n",
      "88.4\n",
      "Grade B\n"
     ]
    }
   ],
   "source": [
    "class Student:\n",
    "    def __init__(self,name,usn,marks):\n",
    "        self.nm=name\n",
    "        self.usn=usn\n",
    "        self.marks=marks\n",
    "        self.percentage=None\n",
    "        self.grade=None\n",
    "    def details(self):\n",
    "        print(\"name:\",self.nm)\n",
    "        print(\"usn:\",self.usn)\n",
    "        print(\"marks:\",self.marks)\n",
    "        \n",
    "    def per(self):\n",
    "        self.percentage=0\n",
    "        for i in self.marks:\n",
    "            self.percentage=self.percentage+i\n",
    "        self.percentage = self.percentage/5\n",
    "        print(self.percentage)   \n",
    "            \n",
    "    def Grade(self):\n",
    "        if(self.percentage>90):\n",
    "            print(\" Grade A\")   \n",
    "        elif (self.percentage>75) and (self.percentage <90):\n",
    "            print(\"Grade B\")\n",
    "        elif(self.percentage>60) and (self.percentage <75):\n",
    "            print(\"Grade C\")\n",
    "        else:\n",
    "            print(\"Grade D\")\n",
    "    def convert_list(self):\n",
    "        st_list=[self.nm,self.usn,self.marks,self.percentage,self.Grade]\n",
    "        return st_list\n",
    "a=input(\"enter your name\")\n",
    "b=int(input(\"enter your usn\"))\n",
    "c = list(map(int,input(\"5 sub marks\").split(\" \")))\n",
    "obj1=Student(a,b,c)\n",
    "obj1.details()\n",
    "obj1.per()\n",
    "obj1.Grade()"
   ]
  },
  {
   "cell_type": "code",
   "execution_count": 7,
   "id": "95322fad-e159-4798-b1c6-066b763126fc",
   "metadata": {},
   "outputs": [],
   "source": [
    "with open(\"student.txt\",'wb')as File:\n",
    "    L=obj1.convert_list()\n",
    "    data=f\"{L[0]},{L[1]},{L[2]},{L[3]},{L[4]}\\n\"\n",
    "    File.write(data.encode())\n",
    "    File.close()"
   ]
  },
  {
   "cell_type": "code",
   "execution_count": 9,
   "id": "667f6b40-7377-4775-95d2-0df2cb62a583",
   "metadata": {},
   "outputs": [
    {
     "name": "stdin",
     "output_type": "stream",
     "text": [
      "enter the number of students 1\n",
      "enter the name of student : Aradhya\n",
      "enter the usn of the sudent:  111\n",
      "enter the marks of the student saparated by space: 90 98 89 90 98\n"
     ]
    },
    {
     "name": "stdout",
     "output_type": "stream",
     "text": [
      "name:Aradhya \n",
      " usn:111\n",
      "1)90\n",
      "2)98\n",
      "3)89\n",
      "4)90\n",
      "5)98\n",
      "the average of marks :93.0 %\n",
      "\n"
     ]
    }
   ],
   "source": [
    "class student:\n",
    "    def __init__(self,name,usn,marks):\n",
    "        self.name= name\n",
    "        self.usn = usn\n",
    "        self.marks= marks\n",
    "    def display(self):\n",
    "        print(f\"name:{self.name} \\n usn:{self.usn}\")\n",
    "        for i,j in enumerate(self.marks):\n",
    "            print(f'{i+1}){j}') \n",
    "        self.avg()\n",
    "    def avg(self):\n",
    "        print(f'the average of marks :{sum(self.marks)/len(self.marks)} %')\n",
    "    \n",
    "n=int(input('enter the number of students'))\n",
    "s=[]\n",
    "for i in range(n):\n",
    "    name= input('enter the name of student :')\n",
    "    usn = input('enter the usn of the sudent: ')\n",
    "    marks= list(map(int,input('enter the marks of the student saparated by space:').split()))\n",
    "    #print(i)\n",
    "    s.append(student(name,usn,marks))\n",
    "    \n",
    "for i in range(n):\n",
    "    s[i].display()\n",
    "    print()"
   ]
  },
  {
   "cell_type": "code",
   "execution_count": null,
   "id": "fb238ea1-c9f3-4b97-9dc6-f8af4b524a4b",
   "metadata": {},
   "outputs": [],
   "source": []
  }
 ],
 "metadata": {
  "kernelspec": {
   "display_name": "Python 3 (ipykernel)",
   "language": "python",
   "name": "python3"
  },
  "language_info": {
   "codemirror_mode": {
    "name": "ipython",
    "version": 3
   },
   "file_extension": ".py",
   "mimetype": "text/x-python",
   "name": "python",
   "nbconvert_exporter": "python",
   "pygments_lexer": "ipython3",
   "version": "3.11.7"
  }
 },
 "nbformat": 4,
 "nbformat_minor": 5
}
