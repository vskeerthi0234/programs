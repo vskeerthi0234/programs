{
 "cells": [
  {
   "cell_type": "code",
   "execution_count": null,
   "id": "53b389a7-65ec-4c4a-937a-1fbadd00204d",
   "metadata": {},
   "outputs": [],
   "source": []
  },
  {
   "cell_type": "code",
   "execution_count": 6,
   "id": "2d8c2c92-2ca2-42bd-bf13-205fc231328b",
   "metadata": {},
   "outputs": [
    {
     "name": "stdin",
     "output_type": "stream",
     "text": [
      "enter the number of votes:  1 2 3 4\n"
     ]
    },
    {
     "name": "stdout",
     "output_type": "stream",
     "text": [
      "[1, 2, 3, 4] [1, 1, 1, 1, 0, 0]\n"
     ]
    }
   ],
   "source": [
    "vote =list(map(int,input(\"enter the number of votes: \").split(\" \")))\n",
    "count = [0]*6\n",
    "for i in vote:\n",
    "    count[i-1]=count[i-1]+1\n",
    "print(vote,count)"
   ]
  },
  {
   "cell_type": "code",
   "execution_count": 6,
   "id": "fbc482e4-f612-4149-aa3a-ef4002cdb578",
   "metadata": {},
   "outputs": [
    {
     "name": "stdin",
     "output_type": "stream",
     "text": [
      "enter the number of votes:  1 2 3 4 5 6 1 2 1\n"
     ]
    },
    {
     "name": "stdout",
     "output_type": "stream",
     "text": [
      "1 [1, 0, 0, 0, 0, 0]\n",
      "2 [1, 1, 0, 0, 0, 0]\n",
      "3 [1, 1, 1, 0, 0, 0]\n",
      "4 [1, 1, 1, 1, 0, 0]\n",
      "5 [1, 1, 1, 1, 1, 0]\n",
      "6 [1, 1, 1, 1, 1, 1]\n",
      "1 [2, 1, 1, 1, 1, 1]\n",
      "2 [2, 2, 1, 1, 1, 1]\n",
      "1 [3, 2, 1, 1, 1, 1]\n",
      "final count : [3, 2, 1, 1, 1, 1]\n"
     ]
    }
   ],
   "source": [
    "vote=list(map(int,input(\"enter the number of votes: \").split(\" \")))\n",
    "count=[0]*6\n",
    "for i in vote:\n",
    "    count[i-1]=count[i-1]+1\n",
    "    print(i,count)\n",
    "print(\"final count :\",count)"
   ]
  },
  {
   "cell_type": "code",
   "execution_count": 4,
   "id": "a2312e5f-1fd0-414b-bf88-946864bddde9",
   "metadata": {},
   "outputs": [
    {
     "name": "stdout",
     "output_type": "stream",
     "text": [
      " Hello \n",
      " Hello  Welcome \n"
     ]
    }
   ],
   "source": [
    "import os  #os is a library in python whch gives access to operating system \n",
    "\n",
    "#to open a file\n",
    "with open(\"file.txt\",'w') as f:    #write mode-if the files doesnt exst it works\n",
    "    f.write(\" Hello \")\n",
    "    f.close()\n",
    "with open(\"file.txt\",'r') as f:    #read mode-if the files doesnt exst it doesnt works\n",
    "    print(f.read())\n",
    "    f.close()\n",
    "with open(\"file.txt\",'a') as f:    #append mode-if the files doesnt exst it doesnt works\n",
    "    f.write(\" Welcome \")           #the append puts the cursor at the end of a word in the file\n",
    "    f.close() \n",
    "with open(\"file.txt\",'r') as f:    \n",
    "    print(f.read())\n",
    "    f.close()\n",
    "                                \n"
   ]
  },
  {
   "cell_type": "code",
   "execution_count": 10,
   "id": "863cd422-ec9a-4f69-ac36-bff048f60a41",
   "metadata": {},
   "outputs": [
    {
     "name": "stdout",
     "output_type": "stream",
     "text": [
      "My name is keerthi\n"
     ]
    }
   ],
   "source": [
    "import os \n",
    "\n",
    "with open(\"intro.txt\",'w') as f:\n",
    "    f.write(\"My name is keerthi\")\n",
    "    f.close()\n",
    "with open(\"intro.txt\",'r') as f:\n",
    "    print(f.read())\n",
    "    f.close()"
   ]
  },
  {
   "cell_type": "code",
   "execution_count": 17,
   "id": "3c1cf414-cca2-4649-aded-cc0affc4072d",
   "metadata": {},
   "outputs": [
    {
     "name": "stdout",
     "output_type": "stream",
     "text": [
      "My name is keerthi\n",
      "\n",
      "My name is keerthi\n",
      "\n"
     ]
    }
   ],
   "source": [
    "import os \n",
    "\n",
    "with open(\"intro.txt\",'w') as f:\n",
    "    f.write(\"My name is keerthi\\n\")\n",
    "    f.close()\n",
    "with open(\"intro.txt\",'r') as f:\n",
    "    print(f.read())\n",
    "    f.close()\n",
    "with open(\"intro.txt\",'r') as f:\n",
    "    s=f.read()\n",
    "    print(s)\n",
    "    f.close()\n",
    "s=s.replace(\"keerthi\",\"navya\")\n",
    "\n",
    "with open(\"intro.txt\",'a') as f:\n",
    "    f.write(s)\n",
    "    f.close()"
   ]
  },
  {
   "cell_type": "code",
   "execution_count": 4,
   "id": "2a57a8b3-8338-4e35-a6b6-db941c0d20dd",
   "metadata": {},
   "outputs": [],
   "source": [
    "with open(\"file.txt\",'wb') as file:\n",
    "    eid=1\n",
    "    name=\"bat\"\n",
    "    condition=\"good\"\n",
    "    s=f\"{eid},{name},{condition}\\n\"\n",
    "    file.write(s.encode())\n",
    "    s=f\"{eid},{name},{condition}\\n\"\n",
    "    file.write(s.encode())\n",
    "    file.close()\n",
    "    "
   ]
  },
  {
   "cell_type": "code",
   "execution_count": null,
   "id": "33ed16dd-2649-43dd-9e1e-e79dbbf840a0",
   "metadata": {},
   "outputs": [],
   "source": [
    " "
   ]
  }
 ],
 "metadata": {
  "kernelspec": {
   "display_name": "Python 3 (ipykernel)",
   "language": "python",
   "name": "python3"
  },
  "language_info": {
   "codemirror_mode": {
    "name": "ipython",
    "version": 3
   },
   "file_extension": ".py",
   "mimetype": "text/x-python",
   "name": "python",
   "nbconvert_exporter": "python",
   "pygments_lexer": "ipython3",
   "version": "3.11.7"
  }
 },
 "nbformat": 4,
 "nbformat_minor": 5
}
