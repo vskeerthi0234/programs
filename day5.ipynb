{
 "cells": [
  {
   "cell_type": "markdown",
   "id": "f022d8df-d212-4c24-b8e6-334e9477be6e",
   "metadata": {},
   "source": [
    "Stack-first in last out"
   ]
  },
  {
   "cell_type": "code",
   "execution_count": 1,
   "id": "84bb8ac4-e9e3-4445-bf16-0037436a3024",
   "metadata": {},
   "outputs": [
    {
     "name": "stdout",
     "output_type": "stream",
     "text": [
      "[10, 20, 30, 40, 50]\n",
      "50\n",
      "[10, 20, 30, 40]\n",
      "4\n"
     ]
    }
   ],
   "source": [
    "class stack:\n",
    "    def __init__(self):\n",
    "        self.items=[]\n",
    "\n",
    "    def push(self,data):\n",
    "        self.items.append(data)\n",
    "    def pop(self):\n",
    "        return self.items.pop()\n",
    "    def size(self):\n",
    "        return len(self.items)\n",
    "\n",
    "S=stack()\n",
    "S.push(10)\n",
    "S.push(20)\n",
    "S.push(30)\n",
    "S.push(40)\n",
    "S.push(50)\n",
    "print(S.items)\n",
    "print(S.pop())\n",
    "print(S.items)\n",
    "print(S.size())"
   ]
  },
  {
   "cell_type": "markdown",
   "id": "0abdc94f-2dfb-4ce5-baa6-5c28db7c88ad",
   "metadata": {},
   "source": [
    "A student is given a task to create some mathematical expression for bodmasBODMAS.But due to some other work he forgot to that,but in the night he clicked that he have to create some expression for BODMAS due to sleepy mood he did some mistake while putting bracktes.u have to check whether the expression given by the boy is valid or not.\n"
   ]
  },
  {
   "cell_type": "markdown",
   "id": "a5103822-4d1b-4563-beed-6977bbfe4fd3",
   "metadata": {},
   "source": [
    "Valid parenthesis using nly dict"
   ]
  },
  {
   "cell_type": "code",
   "execution_count": 2,
   "id": "d92af01c-b7fe-4a28-8f22-a20baaf59b2b",
   "metadata": {},
   "outputs": [
    {
     "name": "stdout",
     "output_type": "stream",
     "text": [
      "invalid expression\n"
     ]
    }
   ],
   "source": [
    "expr=(\"[3+7{52//11(3+5)]\")\n",
    "dict={\"(\":0,\")\":0,\"{\":0,\"}\":0,\"[\":0,\"]\":0}\n",
    "for i in expr:\n",
    "    if i == \"(\":\n",
    "        dict[\"(\"]+=1\n",
    "    elif i == \")\":\n",
    "        dict[\")\"]+=1\n",
    "    elif i == \"[\":\n",
    "        dict[\"[\"]+=1\n",
    "    elif i == \"]\":\n",
    "        dict[\"]\"]+=1\n",
    "    elif i == \"{\":\n",
    "        dict[\"{\"]+=1\n",
    "    elif i == \"}\":\n",
    "        dict[\"}\"]+=1\n",
    "if (dict[\"(\"]==dict[\")\"]) and (dict[\"{\"]==dict[\"}\"]) and (dict[\"[\"]==dict[\"]\"]):\n",
    "    print(\"valid expression\")\n",
    "else:\n",
    "    print(\"invalid expression\")\n",
    "        "
   ]
  },
  {
   "cell_type": "code",
   "execution_count": 1,
   "id": "dc3ae5d0-8ef8-4a08-9ba9-35b365586e5c",
   "metadata": {},
   "outputs": [
    {
     "name": "stdout",
     "output_type": "stream",
     "text": [
      "invalid string\n"
     ]
    }
   ],
   "source": [
    "class expression:\n",
    "\n",
    "    def __init__(self):\n",
    "        self.expr=[]\n",
    "\n",
    "    def push(self,n):\n",
    "        self.expr.append(n)\n",
    "    def pop(self):\n",
    "        if len(self.expr)==0:\n",
    "            return None\n",
    "        return self.expr.pop()\n",
    "    def check(self,expr):\n",
    "        for i in expr:\n",
    "            if(i==\"(\")or(i==\"{\")or(i==\"[\"):\n",
    "                self.push(i)\n",
    "            elif(i==\"(\")or(i==\"{\")or(i==\"[\"):\n",
    "                self.pop()\n",
    "        l=len(expr)\n",
    "        if l==0:\n",
    "            print(\"valid string\")\n",
    "        else:\n",
    "            print(\"invalid string\")\n",
    "e=expression()\n",
    "expr=\"[3+57{52//11(3+5)}]\"\n",
    "e.check(expr)"
   ]
  },
  {
   "cell_type": "code",
   "execution_count": null,
   "id": "0dc883bd-237f-4304-99f4-b8265e90cfcc",
   "metadata": {},
   "outputs": [],
   "source": [
    "#next greater element\n",
    "a=[3,5,2,14,5,3,7,9,4,6,9,4,2,5,3]\n",
    "o=[]*len(a)\n",
    "s=Stack()\n",
    "for i in range(len(a)-1,-1,-1):\n",
    "    if s.size() !=0:\n",
    "        while s.size()!=0 and s.top()<=a[i]:\n",
    "            if s.top()\n",
    "top=-1\n",
    "l=a[top]\n",
    "st=[]\n",
    "st.append(l)\n",
    "while len(st)!=0:\n",
    "    if a[top] < a[top-1]:\n",
    "        top=top-1\n",
    "    elif a[top]>a[top-1]:\n",
    "         top=top\n",
    "if len(st)==0:\n",
    "    return -1\n",
    "print(a)\n",
    "print(st)\n",
    "\n",
    "        "
   ]
  },
  {
   "cell_type": "markdown",
   "id": "d0c3277c-5585-4873-8a52-c3e9b4a79d3a",
   "metadata": {},
   "source": [
    "Queue:first in first out"
   ]
  },
  {
   "cell_type": "code",
   "execution_count": 8,
   "id": "c97f5012-e02a-4e9b-b816-da85ce346952",
   "metadata": {},
   "outputs": [
    {
     "name": "stdout",
     "output_type": "stream",
     "text": [
      "[10, 20, 30, 40]\n",
      "[20, 30, 40]\n",
      "3\n"
     ]
    }
   ],
   "source": [
    "class queue:\n",
    "    def __init__(self):\n",
    "        self.item=[]\n",
    "    def push(self,data):\n",
    "        self.item.append(data)\n",
    "    def pop(self):\n",
    "        return self.item.pop(0)\n",
    "    def size(self):\n",
    "        return len(self.item)\n",
    "q=queue()\n",
    "q.push(10)\n",
    "q.push(20)\n",
    "q.push(30)\n",
    "q.push(40)\n",
    "print(q.item)\n",
    "q.pop()\n",
    "print(q.item)\n",
    "print(q.size())"
   ]
  },
  {
   "cell_type": "code",
   "execution_count": 11,
   "id": "a55f8e41-3521-4a64-b73a-3f7c2f687a9d",
   "metadata": {},
   "outputs": [
    {
     "name": "stdout",
     "output_type": "stream",
     "text": [
      "<__main__.Node object at 0x000001CB3563E610>\n"
     ]
    }
   ],
   "source": [
    "#link list\n",
    "class Node:\n",
    "    def __init__(self,data):\n",
    "        self.value=data\n",
    "        self.next=None\n",
    "\n",
    "Head=Node(10)\n",
    "Head.next=Node(20)\n",
    "Head.next.next=Node(30)\n",
    "\n",
    "Head=Tail=Node(10)\n",
    "\n",
    "Tail.next=Node(20)\n",
    "Tail=Tail.next\n",
    "\n",
    "Tail.next=Node(30)\n",
    "Tail=Tail.next\n",
    "\n",
    "Tail.next=Node(40)\n",
    "Tail=Tail.next\n",
    "\n",
    "print(Head)\n",
    "print(Tail)\n",
    "print(Head.next.next)"
   ]
  },
  {
   "cell_type": "code",
   "execution_count": 16,
   "id": "d88bb758-cea0-4eb9-abd1-2d6bcd1c8c49",
   "metadata": {},
   "outputs": [
    {
     "name": "stdout",
     "output_type": "stream",
     "text": [
      "10\n",
      "20\n",
      "30\n",
      "40\n"
     ]
    }
   ],
   "source": [
    "def print_link_list(Head):\n",
    "    if Head == None:\n",
    "        print(\"List is empty\")\n",
    "        return\n",
    "    curr = Head\n",
    "    while curr!=None:\n",
    "        print(curr.value)\n",
    "        curr=curr.next\n",
    "\n",
    "print_link_list(Head)\n",
    "    "
   ]
  }
 ],
 "metadata": {
  "kernelspec": {
   "display_name": "Python 3 (ipykernel)",
   "language": "python",
   "name": "python3"
  },
  "language_info": {
   "codemirror_mode": {
    "name": "ipython",
    "version": 3
   },
   "file_extension": ".py",
   "mimetype": "text/x-python",
   "name": "python",
   "nbconvert_exporter": "python",
   "pygments_lexer": "ipython3",
   "version": "3.11.7"
  }
 },
 "nbformat": 4,
 "nbformat_minor": 5
}
