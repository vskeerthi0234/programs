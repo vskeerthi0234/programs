{
 "cells": [
  {
   "cell_type": "markdown",
   "id": "36689b9f-824d-4251-90c7-3157f9342376",
   "metadata": {},
   "source": [
    "Greedy Algorithm: is a way to find a optimum solution by using predefined path"
   ]
  },
  {
   "cell_type": "code",
   "execution_count": 31,
   "id": "84ff8d45-5cf8-4bb2-b7b9-024b6b1eec72",
   "metadata": {},
   "outputs": [
    {
     "name": "stdout",
     "output_type": "stream",
     "text": [
      "[5.0, 2.0, 1.0, 3.0, 9.0, 2.4, 4.0, 5.0, 2.5]\n",
      "dictionary: {1: 5.0, 2: 2.0, 3: 1.0, 4: 3.0, 5: 9.0, 6: 2.4, 7: 4.0, 8: 5.0, 9: 2.5}\n",
      "l [(1, 5.0), (2, 2.0), (3, 1.0), (4, 3.0), (5, 9.0), (6, 2.4), (7, 4.0), (8, 5.0), (9, 2.5)]\n",
      "1.0\n",
      "sorting without using lambda func [9.0, 5.0, 5.0, 4.0, 3.0, 2.5, 2.4, 2.0, 1.0]\n",
      "sorting using lambda func [(5, 9.0), (1, 5.0), (8, 5.0), (7, 4.0), (4, 3.0), (9, 2.5), (6, 2.4), (2, 2.0), (3, 1.0)]\n",
      "Taken items: [9.0, 5.0]\n",
      "Total profit: 33\n",
      "[False, False, False, False, True, False, False, False, True]\n"
     ]
    }
   ],
   "source": [
    "#item=int(input(\"enter the number of items:\"))\n",
    "#p=list(map(int,input(\"enter profit:\").split(\" \")))\n",
    "#w=list(map(int,input(\"enter weight:\").split(\" \")))\n",
    "item=[1,2,3,4,5,6,7,8,9]\n",
    "profit=[20,10,6,9,18,12,16,30,15]\n",
    "weight=[4,5,6,3,2,5,4,6,6]\n",
    "x=[False]*len(profit)\n",
    "capacity = 30\n",
    "ratio= [ p/w for p,w in zip(profit , weight)]\n",
    "print(ratio)\n",
    "dic=dict(zip(item,ratio))\n",
    "print(\"dictionary:\",dic)\n",
    "l=list(dic.items())\n",
    "print(\"l\",l)\n",
    "n=len(l)\n",
    "B=lambda x:l[x][1]\n",
    "print(B(2))\n",
    "sorted_items = sorted(dic.values(),reverse=True)\n",
    "print(\"sorting without using lambda func\",sorted_items)\n",
    "sorted_list=sorted(l,key = lambda x:x[1],reverse = True)\n",
    "print(\"sorting using lambda func\",sorted_list)\n",
    "total_profit = 0\n",
    "ls = []\n",
    "for i in sorted_items:\n",
    "    if total_profit + weight[int(i)-1] <= capacity:\n",
    "        total_profit += profit[int(i)-1]\n",
    "        ls.append(i)\n",
    "        x[int(i)-1]=True\n",
    "    else:\n",
    "        break\n",
    "\n",
    "print(\"Taken items:\", ls)\n",
    "print(\"Total profit:\", total_profit)\n",
    "print(x)"
   ]
  },
  {
   "cell_type": "code",
   "execution_count": 3,
   "id": "4f78c6f6-7918-49a0-b380-435903104212",
   "metadata": {},
   "outputs": [
    {
     "name": "stdout",
     "output_type": "stream",
     "text": [
      "{0: 5.0, 1: 3.3333333333333335, 2: 3.0, 3: 1.75, 4: 8.0, 5: 3.0, 6: 2.0}\n",
      "[(0, 5.0), (1, 3.3333333333333335), (2, 3.0), (3, 1.75), (4, 8.0), (5, 3.0), (6, 2.0)]\n",
      "3.0\n",
      "sorting using lambda function [(4, 8.0), (0, 5.0), (1, 3.3333333333333335), (2, 3.0), (5, 3.0), (6, 2.0), (3, 1.75)]\n",
      "[(4, 8.0), (0, 5.0), (1, 3.3333333333333335), (2, 3.0), (5, 3.0), (6, 2.0), (3, 1.75)]\n",
      "[(4, 8.0), (0, 5.0), (1, 3.3333333333333335), (2, 3.0), (5, 3.0), (6, 2.0), (3, 1.75)]\n"
     ]
    }
   ],
   "source": [
    "p=[5,10,15,7,8,9,4]\n",
    "w=[1,3,5,4,1,3,2]\n",
    "\n",
    "p_w={}\n",
    "for i in range(len(p)):\n",
    "    p_w[i]=p[i]/w[i]\n",
    "\n",
    "print(p_w)\n",
    "\n",
    "L = list(p_w.items())\n",
    "\n",
    "print(L)\n",
    "\n",
    "n=len(L)\n",
    "\n",
    "B = lambda x:L[x][1]\n",
    "print(B(2))\n",
    "sorted_list = sorted(L,key=lambda x: x[1],reverse=True)\n",
    "print(\"sorting using lambda function\",sorted_list)\n",
    "\n",
    "L.sort(key=lambda x: x[1],reverse=True)\n",
    "\n",
    "for i in range(n-1):\n",
    "    max=i\n",
    "    for j in range(i+1,n):\n",
    "        if L[j][1] > L[max][1]:\n",
    "            max=j\n",
    "    L[i],L[max]=L[max],L[i]\n",
    "\n",
    "print(L)\n",
    "sorted_pw={}\n",
    "for i in L:\n",
    "    sorted_pw[i[0]]=i[1]\n",
    "print(sorted_list)"
   ]
  },
  {
   "cell_type": "code",
   "execution_count": 23,
   "id": "7771b3f2-769c-44e1-adbe-2e1c34af9f6b",
   "metadata": {},
   "outputs": [
    {
     "name": "stdout",
     "output_type": "stream",
     "text": [
      "{20: 2, 30: 1, 40: 2, 50: 1}\n"
     ]
    }
   ],
   "source": [
    "p=[20,20,30,40,50]\n",
    "d=[5,2,1,2,1]\n",
    "dic=dict(zip(p,d))\n",
    "print(dic)\n"
   ]
  },
  {
   "cell_type": "code",
   "execution_count": 1,
   "id": "db9d3968-994a-4733-aef1-6a5dbb177f97",
   "metadata": {},
   "outputs": [
    {
     "name": "stdout",
     "output_type": "stream",
     "text": [
      "400\n",
      "90\n"
     ]
    }
   ],
   "source": [
    "#lambda Function\n",
    "\n",
    "def a(x):\n",
    "    return x*x\n",
    "\n",
    "#def b(x):\n",
    "#    return x-4\n",
    "\n",
    "B = lambda x,y,z:x+y+z\n",
    "\n",
    "print(a(20))\n",
    "print(B(20,30,40))"
   ]
  }
 ],
 "metadata": {
  "kernelspec": {
   "display_name": "Python 3 (ipykernel)",
   "language": "python",
   "name": "python3"
  },
  "language_info": {
   "codemirror_mode": {
    "name": "ipython",
    "version": 3
   },
   "file_extension": ".py",
   "mimetype": "text/x-python",
   "name": "python",
   "nbconvert_exporter": "python",
   "pygments_lexer": "ipython3",
   "version": "3.11.7"
  }
 },
 "nbformat": 4,
 "nbformat_minor": 5
}
