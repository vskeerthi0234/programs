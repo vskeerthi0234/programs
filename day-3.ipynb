{
 "cells": [
  {
   "cell_type": "markdown",
   "id": "bfeab865-e617-4e60-8e59-e194baa8e90a",
   "metadata": {},
   "source": [
    "PRIME NUMBERS"
   ]
  },
  {
   "cell_type": "code",
   "execution_count": 26,
   "id": "cb33c47e-0248-4b79-b3a1-d8a239994f6a",
   "metadata": {},
   "outputs": [
    {
     "name": "stdin",
     "output_type": "stream",
     "text": [
      "enter a message 67\n"
     ]
    },
    {
     "name": "stdout",
     "output_type": "stream",
     "text": [
      "valid message\n"
     ]
    }
   ],
   "source": [
    "m= int(input(\"enter a message\"))\n",
    "flag=0\n",
    "if m<1:\n",
    "    flag=1\n",
    "elif m==1:\n",
    "    flag=0\n",
    "else:\n",
    "    for i in range(2,(m//2)+1):\n",
    "        if m%i==0:\n",
    "            flag=1\n",
    "            break\n",
    "if flag == 0: \n",
    "    print(\"valid message\")\n",
    "else:\n",
    "    print(\"invalid message\")"
   ]
  },
  {
   "cell_type": "markdown",
   "id": "3cc269f3-3b4f-4494-a6cb-dc58e832fce6",
   "metadata": {},
   "source": [
    "PGRM USING FIBONACCI LOGIC"
   ]
  },
  {
   "cell_type": "code",
   "execution_count": 53,
   "id": "49fe6907-6bdc-4f83-acd2-19ddd2311f4c",
   "metadata": {},
   "outputs": [
    {
     "name": "stdin",
     "output_type": "stream",
     "text": [
      "enter n value: 7\n"
     ]
    },
    {
     "name": "stdout",
     "output_type": "stream",
     "text": [
      "13\n"
     ]
    }
   ],
   "source": [
    "\n",
    "n=int(input(\"enter n value:\"))\n",
    "def fib(n):\n",
    "    if n==0:\n",
    "        return 0\n",
    "    elif n==1:\n",
    "        return 1\n",
    "    else:\n",
    "        #for i in range(2,n\n",
    "        return fib(n-1)+fib(n-2)\n",
    "print(fib(n))\n",
    "        "
   ]
  },
  {
   "cell_type": "code",
   "execution_count": 46,
   "id": "bf48f68a-c3ed-4d30-b43d-e35c8b34ec4f",
   "metadata": {},
   "outputs": [
    {
     "name": "stdin",
     "output_type": "stream",
     "text": [
      "enter the number 6\n"
     ]
    },
    {
     "name": "stdout",
     "output_type": "stream",
     "text": [
      "0\n",
      "1\n",
      "1\n",
      "2\n",
      "3\n",
      "5\n"
     ]
    }
   ],
   "source": [
    "n=int(input(\"enter the number\"))\n",
    "a=0\n",
    "b=1\n",
    "c=a+b\n",
    "if n==1:\n",
    "    print(a)\n",
    "elif n==2:\n",
    "    print(a)\n",
    "    print(b)\n",
    "elif n==0:\n",
    "    print(\"enter a valid num\")\n",
    "else:\n",
    "    print(a)\n",
    "    print(b)\n",
    "    for i in range(2,n):\n",
    "        print(a+b)\n",
    "        a=b\n",
    "        b=c\n",
    "        c=a+b"
   ]
  },
  {
   "cell_type": "code",
   "execution_count": null,
   "id": "be409447-e6fd-474a-8902-99055e909022",
   "metadata": {},
   "outputs": [],
   "source": [
    "PGRM USING PRIME OPERATIONS"
   ]
  },
  {
   "cell_type": "code",
   "execution_count": 60,
   "id": "ac0c0d23-820e-4c32-a101-d2d011b27645",
   "metadata": {},
   "outputs": [
    {
     "name": "stdin",
     "output_type": "stream",
     "text": [
      "enter the num: 13\n"
     ]
    },
    {
     "name": "stdout",
     "output_type": "stream",
     "text": [
      "(17, 45, False)\n"
     ]
    }
   ],
   "source": [
    "def check_prime(m):\n",
    "    flag=0\n",
    "    if m<1:\n",
    "       flag=1\n",
    "    elif m==1:\n",
    "       flag=0\n",
    "    else:\n",
    "       for i in range(2,(m//2)+1):\n",
    "           if m%i==0:\n",
    "                flag=1\n",
    "                break\n",
    "    if flag == 0: \n",
    "        return 1\n",
    "    else:\n",
    "        return 0\n",
    "result=[]\n",
    "N=int(input(\"enter the num:\"))\n",
    "flag=0\n",
    "k=N+1\n",
    "while flag<1:\n",
    "    flag=check_prime(k)\n",
    "    if flag == 1:\n",
    "        result.append(k)\n",
    "    else:\n",
    "        k=k+1\n",
    "    \n",
    "sum=0\n",
    "for i in range(N+1,k):\n",
    "    sum=sum+i\n",
    "result.append(sum)\n",
    "\n",
    "p1=k\n",
    "flag=0\n",
    "k=p1+1\n",
    "while flag<1:\n",
    "    flag=check_prime(k)\n",
    "    if flag == 1:\n",
    "        p2=k\n",
    "    else:\n",
    "        k=k+1  \n",
    "p3=p1*p2\n",
    "flag=check_prime(p3)\n",
    "if flag==0:\n",
    "    result.append(False)\n",
    "else:\n",
    "    result.append(True)\n",
    "prime_key=tuple(result)\n",
    "print(prime_key)"
   ]
  },
  {
   "cell_type": "markdown",
   "id": "4597c82b-8274-4b1d-9004-f61a2ef40bdd",
   "metadata": {},
   "source": [
    "Ant on rail"
   ]
  },
  {
   "cell_type": "code",
   "execution_count": 72,
   "id": "174efbd2-d3fb-4f3b-8caf-0fd144f6c619",
   "metadata": {},
   "outputs": [
    {
     "name": "stdin",
     "output_type": "stream",
     "text": [
      "enter the moves made by the ant: 5\n",
      "enter the moves: 1 -1 1 -1 1\n"
     ]
    },
    {
     "name": "stdout",
     "output_type": "stream",
     "text": [
      "2\n"
     ]
    }
   ],
   "source": [
    "\n",
    "N=int(input(\"enter the moves made by the ant:\"))\n",
    "s = list(map(int,input(\"enter the moves:\").split(\" \")))\n",
    "p=0\n",
    "count=0\n",
    "for i in s:\n",
    "    p=p+i\n",
    "    if p==0:\n",
    "        count=count+1\n",
    "print(count)"
   ]
  },
  {
   "cell_type": "markdown",
   "id": "b8480abd-207a-438f-a813-af747c70a464",
   "metadata": {},
   "source": [
    "Diwali contest"
   ]
  },
  {
   "cell_type": "code",
   "execution_count": 3,
   "id": "32645477-a222-488d-ad4e-8948e9b3efa5",
   "metadata": {},
   "outputs": [
    {
     "name": "stdin",
     "output_type": "stream",
     "text": [
      "enter the number of problems 6\n",
      "Time to travel to the party venue 180\n"
     ]
    },
    {
     "name": "stdout",
     "output_type": "stream",
     "text": [
      "60\n",
      "55\n",
      "45\n",
      "30\n",
      "10\n",
      "problems solved: 4\n"
     ]
    }
   ],
   "source": [
    "N=int(input(\"enter the number of problems\"))\n",
    "P=int(input(\"Time to travel to the party venue\"))\n",
    "tl_solve=(4*60)-P\n",
    "print(tl_solve)\n",
    "tleft=tl_solve\n",
    "for i in range (1,N):\n",
    "    time=5*i\n",
    "    tl=tleft-time\n",
    "    tleft=tl\n",
    "    if tl<0:\n",
    "        print(\"problems solved:\",i-1)\n",
    "    else:\n",
    "        print(tl)"
   ]
  }
 ],
 "metadata": {
  "kernelspec": {
   "display_name": "Python 3 (ipykernel)",
   "language": "python",
   "name": "python3"
  },
  "language_info": {
   "codemirror_mode": {
    "name": "ipython",
    "version": 3
   },
   "file_extension": ".py",
   "mimetype": "text/x-python",
   "name": "python",
   "nbconvert_exporter": "python",
   "pygments_lexer": "ipython3",
   "version": "3.11.7"
  }
 },
 "nbformat": 4,
 "nbformat_minor": 5
}
