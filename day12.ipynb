{
 "cells": [
  {
   "cell_type": "code",
   "execution_count": 2,
   "id": "308b952a-94fe-4bd2-85df-013e9563a375",
   "metadata": {},
   "outputs": [
    {
     "name": "stdout",
     "output_type": "stream",
     "text": [
      "51\n"
     ]
    }
   ],
   "source": [
    "#dynamic programming\n",
    "\n",
    "def cal_max(p,w,c,n):\n",
    "    if n==0 or c==0:\n",
    "        return 0\n",
    "    if (w[n-1]>c):\n",
    "        return cal_max(p,w,c,n-1)\n",
    "    else:\n",
    "        return max(p[n-1]+ cal_max(p,w,c-w[n-1],n-1),cal_max(p,w,c,n-1))\n",
    "\n",
    "\n",
    "p=[5,10,15,7,8,9,4]\n",
    "w=[1,3,5,4,1,3,2]\n",
    "c=15\n",
    "n=len(p)\n",
    "print(cal_max(p,w,c,n))"
   ]
  },
  {
   "cell_type": "code",
   "execution_count": 3,
   "id": "2dd8a887-1bd6-48ea-9bf0-cadfc845d856",
   "metadata": {},
   "outputs": [
    {
     "name": "stdout",
     "output_type": "stream",
     "text": [
      "51\n",
      "[[-1, -1, -1, -1, -1, -1, -1, -1, -1, -1, -1, -1, -1, -1, -1, -1], [-1, 5, 5, 5, 5, 5, 5, 5, 5, 5, 5, 5, 5, 5, 5, 5], [-1, 5, 5, 10, 15, 15, 15, 15, 15, 15, 15, 15, 15, 15, 15, 15], [-1, -1, -1, -1, -1, 15, 20, 20, 25, 30, 30, 30, 30, 30, 30, 30], [-1, -1, -1, -1, -1, -1, -1, -1, -1, 30, 30, 30, 32, 37, 37, 37], [-1, -1, -1, -1, -1, -1, -1, -1, -1, -1, 38, -1, 38, 40, -1, 45], [-1, -1, -1, -1, -1, -1, -1, -1, -1, -1, -1, -1, -1, 47, -1, 47], [-1, -1, -1, -1, -1, -1, -1, -1, -1, -1, -1, -1, -1, -1, -1, 51]]\n"
     ]
    }
   ],
   "source": [
    "def calc_max(p,w,c,n):\n",
    "    if n==0 or c==0:\n",
    "        return 0\n",
    "    if dp[n][c]!=-1:\n",
    "        return dp[n][c]\n",
    "    if (w[n-1]<=c):\n",
    "        dp[n][c]=max(p[n-1]+calc_max(p,w,c-w[n-1],n-1),calc_max(p,w,c,n-1))\n",
    "        return dp[n][c]\n",
    "    else:\n",
    "        dp[n][c]=calc_max(p,w,c,n-1)\n",
    "        return dp[n][c]\n",
    "\n",
    "\n",
    "p=[5,10,15,7,8,9,4]\n",
    "w=[1,3,5,4,1,3,2]\n",
    "c=15\n",
    "n=len(p)\n",
    "dp=[[-1 for i in range(c+1)] for j in range(n+1)]\n",
    "print(calc_max(p,w,c,n))\n",
    "print(dp)"
   ]
  },
  {
   "cell_type": "code",
   "execution_count": null,
   "id": "70af8c8c-f240-419d-a351-69558ed719fa",
   "metadata": {},
   "outputs": [],
   "source": []
  }
 ],
 "metadata": {
  "kernelspec": {
   "display_name": "Python 3 (ipykernel)",
   "language": "python",
   "name": "python3"
  },
  "language_info": {
   "codemirror_mode": {
    "name": "ipython",
    "version": 3
   },
   "file_extension": ".py",
   "mimetype": "text/x-python",
   "name": "python",
   "nbconvert_exporter": "python",
   "pygments_lexer": "ipython3",
   "version": "3.11.7"
  }
 },
 "nbformat": 4,
 "nbformat_minor": 5
}
