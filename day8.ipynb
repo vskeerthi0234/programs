{
 "cells": [
  {
   "cell_type": "markdown",
   "id": "e88abf3a-9277-44d9-b802-d1e4ede7e76a",
   "metadata": {},
   "source": [
    "GRAPHS"
   ]
  },
  {
   "cell_type": "code",
   "execution_count": 10,
   "id": "ff635488-2dbc-479d-9b70-992a629daa1c",
   "metadata": {},
   "outputs": [
    {
     "name": "stdout",
     "output_type": "stream",
     "text": [
      "4\n",
      "3\n",
      "6\n",
      "8\n",
      "9\n",
      "7\n",
      "11\n",
      "10\n",
      "12\n",
      "13\n",
      "5\n",
      "2\n",
      "1\n"
     ]
    }
   ],
   "source": [
    "#dfs\n",
    "def DFS(A,V,S,E):\n",
    "    if V[E]==False:\n",
    "        S.append(E)\n",
    "        V[E]=True\n",
    "    else:\n",
    "        return\n",
    "    for i in A[E]:\n",
    "        DFS(A,V,S,i[1])\n",
    "    print(S.pop())\n",
    "\n",
    "S=[]\n",
    "A={\n",
    "    1:[(1,2,0),(1,3,0)],\n",
    "    2:[(2,1,0),(2,5,0)],\n",
    "    3:[(3,1,0),(3,4,0),(3,6,0)],\n",
    "    4:[(4,3,0)],\n",
    "    5:[(5,2,0),(5,7,0),(5,10,0),(5,13,0)],\n",
    "    6:[(6,3,0),(6,7,0)],\n",
    "    7:[(7,5,0),(7,6,0),(7,8,0),(7,9,0)],\n",
    "    8:[(8,7,0)],\n",
    "    9:[(9,7,0)],\n",
    "    10:[(10,5,0),(10,11,0)],\n",
    "    11:[(11,10,0)],\n",
    "    12:[(12,9,0),(12,13,0)],\n",
    "    13:[(13,5,0),(13,12,0)]\n",
    "  }\n",
    "V={\n",
    "    1:False,\n",
    "    2:False,\n",
    "    3:False,\n",
    "    4:False,\n",
    "    5:False,\n",
    "    6:False,\n",
    "    7:False,\n",
    "    8:False,\n",
    "    9:False,\n",
    "    10:False,\n",
    "    11:False,\n",
    "    12:False,\n",
    "    13:False\n",
    "  }\n",
    "DFS(A,V,S,1)"
   ]
  },
  {
   "cell_type": "code",
   "execution_count": 15,
   "id": "3829df3b-9d94-4faf-81d9-9bc0de27951e",
   "metadata": {},
   "outputs": [
    {
     "name": "stdout",
     "output_type": "stream",
     "text": [
      "1\n",
      "2\n",
      "3\n",
      "5\n",
      "4\n",
      "6\n",
      "7\n",
      "10\n",
      "13\n",
      "8\n",
      "9\n",
      "11\n",
      "12\n"
     ]
    }
   ],
   "source": [
    "#BFS\n",
    "\n",
    "def BFS(G,e):\n",
    "    Q=[e]\n",
    "    v={}\n",
    "    for i in G.keys():\n",
    "        v[i]=False\n",
    "    v[e]=True\n",
    "    while len(Q)!=0:\n",
    "        curr=Q.pop(0)\n",
    "        print(curr)\n",
    "        for i in G[curr]:\n",
    "            if v[i[1]]==False:\n",
    "                Q.append(i[1])\n",
    "                v[i[1]]=True    \n",
    "G={\n",
    "    1:[(1,2,0),(1,3,0)],\n",
    "    2:[(2,1,0),(2,5,0)],\n",
    "    3:[(3,1,0),(3,4,0),(3,6,0)],\n",
    "    4:[(4,3,0)],\n",
    "    5:[(5,2,0),(5,7,0),(5,10,0),(5,13,0)],\n",
    "    6:[(6,3,0),(6,7,0)],\n",
    "    7:[(7,5,0),(7,6,0),(7,8,0),(7,9,0)],\n",
    "    8:[(8,7,0)],\n",
    "    9:[(9,7,0)],\n",
    "    10:[(10,5,0),(10,11,0)],\n",
    "    11:[(11,10,0)],\n",
    "    12:[(12,9,0),(12,13,0)],\n",
    "    13:[(13,5,0),(13,12,0)]\n",
    "  }\n",
    "v={\n",
    "    1:False,\n",
    "    2:False,\n",
    "    3:False,\n",
    "    4:False,\n",
    "    5:False,\n",
    "    6:False,\n",
    "    7:False,\n",
    "    8:False,\n",
    "    9:False,\n",
    "    10:False,\n",
    "    11:False,\n",
    "    12:False,\n",
    "    13:False\n",
    "  }  \n",
    "BFS(G,1)"
   ]
  },
  {
   "cell_type": "code",
   "execution_count": 4,
   "id": "ec937fa9-d7e9-4998-b42c-82d4081f7c09",
   "metadata": {},
   "outputs": [
    {
     "name": "stdout",
     "output_type": "stream",
     "text": [
      "1\n",
      "2\n",
      "3\n",
      "4\n",
      "5\n",
      "6\n",
      "7\n",
      "8\n",
      "9\n"
     ]
    }
   ],
   "source": [
    "class node:\n",
    "    def __init__(self,data):\n",
    "        self.value=data\n",
    "        self.left=None\n",
    "        self.right=None\n",
    "\n",
    "def ins_bst(root,val):\n",
    "    if root==None:\n",
    "         return node(val)\n",
    "    if val<root.value:\n",
    "        root.left=ins_bst(root.left,val)\n",
    "    if val>root.value:\n",
    "        root.right=ins_bst(root.right,val)\n",
    "    return root\n",
    "\n",
    "def inorder(root):\n",
    "    if root:\n",
    "        inorder(root.left)\n",
    "        print(root.value)\n",
    "        inorder(root.right)\n",
    "\n",
    "list = [4,6,7,3,8,2,5,9,1]\n",
    "root = node(list.pop(0))\n",
    "\n",
    "for i in list:\n",
    "        ins_bst(root,i)\n",
    "\n",
    "inorder(root)"
   ]
  }
 ],
 "metadata": {
  "kernelspec": {
   "display_name": "Python 3 (ipykernel)",
   "language": "python",
   "name": "python3"
  },
  "language_info": {
   "codemirror_mode": {
    "name": "ipython",
    "version": 3
   },
   "file_extension": ".py",
   "mimetype": "text/x-python",
   "name": "python",
   "nbconvert_exporter": "python",
   "pygments_lexer": "ipython3",
   "version": "3.11.7"
  }
 },
 "nbformat": 4,
 "nbformat_minor": 5
}
