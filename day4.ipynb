{
 "cells": [
  {
   "cell_type": "markdown",
   "id": "be6929f1-93c1-4a7c-8b62-275eff8100c2",
   "metadata": {},
   "source": [
    "vowel identifier"
   ]
  },
  {
   "cell_type": "code",
   "execution_count": 40,
   "id": "32e788a3-2530-4432-8b50-8bdc2ff126b6",
   "metadata": {},
   "outputs": [
    {
     "name": "stdout",
     "output_type": "stream",
     "text": [
      "{'Alex': ['O'], 'Anu': ['I']}\n"
     ]
    }
   ],
   "source": [
    "def count_vowels(S):\n",
    "    dic={'A':0,'E':0,'I':0,'O':0,'U':0}\n",
    "    for i in S:\n",
    "        if i == 'a' or i == 'A':\n",
    "            dic['A']+=1\n",
    "        elif i == 'e' or i == 'E':\n",
    "            dic['E']+=1\n",
    "        elif i == 'i' or i == 'I':\n",
    "            dic['I']+=1\n",
    "        elif i == 'o' or i == 'O':\n",
    "            dic['O']+=1\n",
    "        elif i == 'u' or i == 'U':\n",
    "            dic['U']+=1 \n",
    "    x=max(dic.values())\n",
    "    result = []\n",
    "    for i,j in dic.items():\n",
    "        if j == x:\n",
    "            result.append(i)\n",
    "    return result\n",
    "i_p=[\n",
    "       [\"Alex\",\"how are you\"],\n",
    "       [\"Anu\",\"hello this is anu\"]\n",
    "    ]\n",
    "o_p={}\n",
    "for i in i_p:\n",
    "    o_p[i[0]]=count_vowels(i[1])\n",
    "print(o_p)"
   ]
  },
  {
   "cell_type": "markdown",
   "id": "de6079ef-2865-460b-af6b-c745c4ea5038",
   "metadata": {},
   "source": [
    "max sum of 3 consecutive numbers"
   ]
  },
  {
   "cell_type": "code",
   "execution_count": 50,
   "id": "0ce158db-dcd4-4d34-9277-5c11d18f6ac1",
   "metadata": {},
   "outputs": [
    {
     "name": "stdout",
     "output_type": "stream",
     "text": [
      "17 4 6 7\n"
     ]
    }
   ],
   "source": [
    "l = [2,4,3,5,6,3,4,6,7,1,2,5]\n",
    "sum = max = 0\n",
    "for i in range(0,len(l)-2):\n",
    "    sum = l[i]+l[i+1]+l[i+2]\n",
    "    if max < sum:\n",
    "        max = sum\n",
    "        pos = i\n",
    "print(max,l[pos],l[pos+1],l[pos+2])"
   ]
  },
  {
   "cell_type": "markdown",
   "id": "a7afa16e-0010-4ba5-bf0b-1995d7d14708",
   "metadata": {},
   "source": [
    "sum of continuous digit"
   ]
  },
  {
   "cell_type": "code",
   "execution_count": 85,
   "id": "4723fbbd-a815-4b0d-91c2-e98d63dadf56",
   "metadata": {},
   "outputs": [
    {
     "name": "stdin",
     "output_type": "stream",
     "text": [
      "enter the num of continuous digit 4\n"
     ]
    },
    {
     "name": "stdout",
     "output_type": "stream",
     "text": [
      "20\n",
      "3\n",
      "4\n",
      "6\n",
      "7\n"
     ]
    }
   ],
   "source": [
    "l = [2,4,3,5,6,3,4,6,7,1,2,5]\n",
    "window = max = 0\n",
    "k=int(input(\"enter the num of continuous digit\"))\n",
    "\n",
    "for j in range(0,k):\n",
    "    window+=l[j]\n",
    "l.append(0)\n",
    "for i in range(0,len(l)-k):\n",
    "    if max < window:\n",
    "        max=window\n",
    "        pos=i\n",
    "    window = window + l[i+k] - l[i] \n",
    "print(max)\n",
    "for j in range(0,k):\n",
    "    print(l[pos+j])"
   ]
  }
 ],
 "metadata": {
  "kernelspec": {
   "display_name": "Python 3 (ipykernel)",
   "language": "python",
   "name": "python3"
  },
  "language_info": {
   "codemirror_mode": {
    "name": "ipython",
    "version": 3
   },
   "file_extension": ".py",
   "mimetype": "text/x-python",
   "name": "python",
   "nbconvert_exporter": "python",
   "pygments_lexer": "ipython3",
   "version": "3.11.7"
  }
 },
 "nbformat": 4,
 "nbformat_minor": 5
}
