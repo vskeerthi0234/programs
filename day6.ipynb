{
 "cells": [
  {
   "cell_type": "markdown",
   "id": "5cb38f2c-ffa2-439c-8ef7-e5ccf9bba308",
   "metadata": {},
   "source": [
    "SORTING"
   ]
  },
  {
   "cell_type": "code",
   "execution_count": 18,
   "id": "33dc17ad-83f0-49e7-b0f4-a048ae6e6ec4",
   "metadata": {},
   "outputs": [
    {
     "name": "stdout",
     "output_type": "stream",
     "text": [
      "[5, 7, 10, 13, 23]\n"
     ]
    }
   ],
   "source": [
    "#BUBBLE SORT\n",
    "l = [10,5,13,7,23]\n",
    "n = len(l)\n",
    "for j in range(0,n):\n",
    "    for i in range(0,n-1-j):\n",
    "        if l[i]>l[i+1]:\n",
    "            l[i],l[i+1]=l[i+1],l[i]\n",
    "print(l)"
   ]
  },
  {
   "cell_type": "code",
   "execution_count": 27,
   "id": "c9309403-c200-438f-bdc5-69b2b6388b1e",
   "metadata": {},
   "outputs": [
    {
     "name": "stdin",
     "output_type": "stream",
     "text": [
      "enter numbers: 6 45 65 78 89 90 2\n"
     ]
    },
    {
     "name": "stdout",
     "output_type": "stream",
     "text": [
      "2\n"
     ]
    }
   ],
   "source": [
    "#to print min element in a list\n",
    "l = list(map(int,input(\"enter numbers:\").split()))\n",
    "a = len(l)\n",
    "min = l[0]\n",
    "for i in range(1,a):\n",
    "    if min>l[i]:\n",
    "        min=l[i]\n",
    "\n",
    "print(min)       "
   ]
  },
  {
   "cell_type": "code",
   "execution_count": 28,
   "id": "1dc616dc-3264-4d3f-801a-2f11f6af698c",
   "metadata": {},
   "outputs": [
    {
     "name": "stdin",
     "output_type": "stream",
     "text": [
      "enter numbers: 6 45 65 78 89 90 2\n"
     ]
    },
    {
     "name": "stdout",
     "output_type": "stream",
     "text": [
      "90\n"
     ]
    }
   ],
   "source": [
    "#to print max element in a list\n",
    "l = list(map(int,input(\"enter numbers:\").split()))\n",
    "a = len(l)\n",
    "max = l[0]\n",
    "for i in range(1,a):\n",
    "    if max<l[i]:\n",
    "        max=l[i]\n",
    "\n",
    "print(max)\n",
    "        "
   ]
  },
  {
   "cell_type": "code",
   "execution_count": 40,
   "id": "2d779db5-364c-4ef1-8f3b-7715769fb72f",
   "metadata": {},
   "outputs": [
    {
     "name": "stdout",
     "output_type": "stream",
     "text": [
      "[1, 3, 5, 7, 8, 9, 10, 26, 44]\n"
     ]
    }
   ],
   "source": [
    "# selection sort\n",
    "\n",
    "l = [9,7,5,8,10,26,44,3,1]\n",
    "n = len(l)\n",
    "for i in range(0,n):\n",
    "    pos=i\n",
    "    min=l[i]\n",
    "    for j in range(i,n):\n",
    "        if l[j]<min:\n",
    "            min=l[j]\n",
    "            pos=j\n",
    "    l[i],l[pos]=l[pos],l[i]\n",
    "print(l)"
   ]
  },
  {
   "cell_type": "markdown",
   "id": "237b9c73-ec43-4f09-b66d-111dcc2b370a",
   "metadata": {},
   "source": [
    "RECURSION"
   ]
  },
  {
   "cell_type": "code",
   "execution_count": null,
   "id": "3f7c250c-a1a8-442c-9936-12c11baf7228",
   "metadata": {},
   "outputs": [],
   "source": [
    "#FAB SERIES\n",
    "def fib(n):\n",
    "    if n==1:\n",
    "        return 0\n",
    "    elif n==2:\n",
    "        return 1\n",
    "    else:\n",
    "        return fib(n-1)+fib(n-2)\n",
    "if __name__ == \"__main__\":\n",
    "    n=int(input())\n",
    "    print(fib(n))        "
   ]
  },
  {
   "cell_type": "code",
   "execution_count": 8,
   "id": "a39aa136-a1e0-49fb-864c-027943502898",
   "metadata": {},
   "outputs": [
    {
     "name": "stdin",
     "output_type": "stream",
     "text": [
      " 20\n"
     ]
    },
    {
     "name": "stdout",
     "output_type": "stream",
     "text": [
      "2432902008176640000\n"
     ]
    }
   ],
   "source": [
    "#FACTORIAL\n",
    "def fact(n):\n",
    "    if n==0:\n",
    "        return 1 \n",
    "    return n * fact(n-1)\n",
    "if __name__ == \"__main__\":\n",
    "    n=int(input())\n",
    "    print(fact(n))"
   ]
  },
  {
   "cell_type": "code",
   "execution_count": 5,
   "id": "f710eb11-152e-4915-b841-7fa37116d538",
   "metadata": {},
   "outputs": [
    {
     "name": "stdout",
     "output_type": "stream",
     "text": [
      "0 8\n",
      "5 0 8\n",
      "0 0 4\n",
      "4 1 4\n",
      "1 1 3\n",
      "3 2 3\n",
      "6 6 8\n",
      "7 7 8\n",
      "sorted array: [1, 2, 3, 4, 5, 6, 7, 8, 9]\n"
     ]
    }
   ],
   "source": [
    "#QUICK SORT\n",
    "\n",
    "def divide(a,low,high):\n",
    "    pivot=a[high]\n",
    "    pi=high\n",
    "    j=low-1\n",
    "    for i in range(low,high):\n",
    "        if a[i]<pivot:\n",
    "            j+=1\n",
    "            a[i],a[j]=a[j],a[i]\n",
    "    j+=1\n",
    "    a[j],a[pi]=a[pi],a[j]\n",
    "    pi=j\n",
    "    return pi\n",
    "def Quick_sort(a, low, high):\n",
    "    if low < high:\n",
    "        pi = divide(a,low,high)\n",
    "        print(pi,low,high)\n",
    "        Quick_sort(a,low,pi-1)\n",
    "        Quick_sort(a,pi+1,high)\n",
    "    return\n",
    "\n",
    "if __name__==\"__main__\":\n",
    "    a=[5,7,4,3,9,2,8,1,6]\n",
    "    low=0\n",
    "    high=len(a)-1\n",
    "    print(low,high)\n",
    "    Quick_sort(a,low,high)\n",
    "    print(\"sorted array:\",a)\n",
    "\n"
   ]
  },
  {
   "cell_type": "code",
   "execution_count": 1,
   "id": "47fe14fa-4ac5-48e1-8ef4-ea62aee7b978",
   "metadata": {},
   "outputs": [
    {
     "name": "stdin",
     "output_type": "stream",
     "text": [
      " 4 7 8 3 2 9 1 5\n"
     ]
    },
    {
     "name": "stdout",
     "output_type": "stream",
     "text": [
      "Sorted Array =  [1, 2, 3, 4, 5, 7, 8, 9]\n"
     ]
    }
   ],
   "source": [
    "#merge Sort\n",
    "\n",
    "\n",
    "def merge(left,right):\n",
    "    i=j=0\n",
    "    temp=[]\n",
    "\n",
    "    while i<len(left) and j<len(right):\n",
    "        if left[i]<right[j]:\n",
    "            temp.append(left[i])\n",
    "            i+=1\n",
    "        else:\n",
    "            temp.append(right[j])\n",
    "            j+=1\n",
    "            \n",
    "    while i<len(left):\n",
    "        temp.append(left[i])\n",
    "        i+=1\n",
    "        \n",
    "    while j<len(right):\n",
    "        temp.append(right[j])\n",
    "        j+=1\n",
    "\n",
    "    return temp\n",
    "\n",
    "def mergesort(L):\n",
    "    if len(L) <= 1:\n",
    "        return L\n",
    "        \n",
    "    mid = len(L)//2\n",
    "    left=L[:mid] \n",
    "    right=L[mid:]\n",
    "    \n",
    "    left_sorted = mergesort(left)\n",
    "    right_sorted = mergesort(right)\n",
    "    \n",
    "    return merge(left_sorted,right_sorted)\n",
    "\n",
    "\n",
    "if __name__==\"__main__\":\n",
    "    L=list(map(int,input().split())) # 4 7 8 3 2 9 1 5\n",
    "    sorted=mergesort(L)\n",
    "\n",
    "    print(\"Sorted Array = \",sorted)"
   ]
  }
 ],
 "metadata": {
  "kernelspec": {
   "display_name": "Python 3 (ipykernel)",
   "language": "python",
   "name": "python3"
  },
  "language_info": {
   "codemirror_mode": {
    "name": "ipython",
    "version": 3
   },
   "file_extension": ".py",
   "mimetype": "text/x-python",
   "name": "python",
   "nbconvert_exporter": "python",
   "pygments_lexer": "ipython3",
   "version": "3.11.7"
  }
 },
 "nbformat": 4,
 "nbformat_minor": 5
}
